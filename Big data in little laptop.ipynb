{
 "cells": [
  {
   "cell_type": "markdown",
   "metadata": {
    "slideshow": {
     "slide_type": "slide"
    }
   },
   "source": [
    "# Big data in little laptop\n",
    "\n",
    "*Juan Nunez-Iglesias*  \n",
    "*Victorian Life Sciences Computation Initiative*  \n",
    "*University of Melbourne*  \n",
    "\n",
    "This talk is inspired by the work of Matt Rocklin"
   ]
  },
  {
   "cell_type": "code",
   "execution_count": null,
   "metadata": {
    "collapsed": true,
    "slideshow": {
     "slide_type": "subslide"
    }
   },
   "outputs": [],
   "source": [
    "%matplotlib inline\n",
    "import numpy as np\n",
    "from matplotlib import pyplot as plt\n",
    "np.set_printoptions(precision=3, suppress=True)"
   ]
  },
  {
   "cell_type": "markdown",
   "metadata": {
    "slideshow": {
     "slide_type": "slide"
    }
   },
   "source": [
    "# Two types of data"
   ]
  },
  {
   "cell_type": "markdown",
   "metadata": {
    "slideshow": {
     "slide_type": "slide"
    }
   },
   "source": [
    "# Three types of data"
   ]
  },
  {
   "cell_type": "markdown",
   "metadata": {
    "slideshow": {
     "slide_type": "slide"
    }
   },
   "source": [
    "# \"Traditional\"/\"batch\" programming\n",
    "\n",
    "Take the mean of log(r) + 1 over all rows r in a dataset"
   ]
  },
  {
   "cell_type": "code",
   "execution_count": null,
   "metadata": {
    "collapsed": false,
    "slideshow": {
     "slide_type": "subslide"
    }
   },
   "outputs": [],
   "source": [
    "import numpy as np\n",
    "\n",
    "fin = 'data/expr.tsv'\n",
    "counts = np.loadtxt(fin)\n",
    "logcounts = np.log(counts + 1)\n",
    "lcmean = np.mean(logcounts, axis=0)\n",
    "\n",
    "print(lcmean)"
   ]
  },
  {
   "cell_type": "markdown",
   "metadata": {
    "slideshow": {
     "slide_type": "slide"
    }
   },
   "source": [
    "# Simple streaming: grep"
   ]
  },
  {
   "cell_type": "code",
   "execution_count": null,
   "metadata": {
    "collapsed": false,
    "slideshow": {
     "slide_type": "subslide"
    }
   },
   "outputs": [],
   "source": [
    "def simplegrep(pattern, filename):\n",
    "    with open(filename) as fin:\n",
    "        for linenum, line in enumerate(fin):\n",
    "            if pattern in line:\n",
    "                print(linenum, ':', line)"
   ]
  },
  {
   "cell_type": "code",
   "execution_count": null,
   "metadata": {
    "collapsed": false,
    "slideshow": {
     "slide_type": "subslide"
    }
   },
   "outputs": [],
   "source": [
    "%ls -l data"
   ]
  },
  {
   "cell_type": "code",
   "execution_count": null,
   "metadata": {
    "collapsed": true,
    "slideshow": {
     "slide_type": "subslide"
    }
   },
   "outputs": [],
   "source": [
    "import sys\n",
    "sys.path.append('/Users/jni/projects/ipython_memory_usage/')\n",
    "import ipython_memory_usage as imu"
   ]
  },
  {
   "cell_type": "code",
   "execution_count": null,
   "metadata": {
    "collapsed": false,
    "slideshow": {
     "slide_type": "subslide"
    }
   },
   "outputs": [],
   "source": [
    "imu.start_watching_memory()"
   ]
  },
  {
   "cell_type": "code",
   "execution_count": null,
   "metadata": {
    "collapsed": false,
    "slideshow": {
     "slide_type": "subslide"
    }
   },
   "outputs": [],
   "source": [
    "%%timeit -n 1 -r 1\n",
    "simplegrep('chrUn_DS484746v1', 'data/dm6.fa')"
   ]
  },
  {
   "cell_type": "code",
   "execution_count": null,
   "metadata": {
    "collapsed": true,
    "slideshow": {
     "slide_type": "subslide"
    }
   },
   "outputs": [],
   "source": [
    "imu.stop_watching_memory()"
   ]
  },
  {
   "cell_type": "markdown",
   "metadata": {
    "slideshow": {
     "slide_type": "slide"
    }
   },
   "source": [
    "# A bit harder: multi-function streaming with `yield`"
   ]
  },
  {
   "cell_type": "markdown",
   "metadata": {
    "slideshow": {
     "slide_type": "fragment"
    }
   },
   "source": [
    "Revisiting log-mean"
   ]
  },
  {
   "cell_type": "code",
   "execution_count": null,
   "metadata": {
    "collapsed": false,
    "slideshow": {
     "slide_type": "subslide"
    }
   },
   "outputs": [],
   "source": [
    "import numpy as np\n",
    "\n",
    "def line2array(line):\n",
    "    return np.array(line.rstrip().split(), dtype=float)\n",
    "\n",
    "def readtsv(filename):\n",
    "    with open(filename) as fin:\n",
    "        for i, line in enumerate(fin):\n",
    "            yield line2array(line)\n",
    "\n",
    "def log(arrays_iter):\n",
    "    for i, arr in enumerate(arrays_iter):\n",
    "        yield np.log(arr + 1)\n",
    "\n",
    "def mean(arrays_iter):\n",
    "    for i, arr in enumerate(arrays_iter):\n",
    "        if i == 0:\n",
    "            mean = arr\n",
    "        mean += (arr - mean) / (i + 1)\n",
    "    return mean\n",
    "\n",
    "print(mean(log(readtsv(fin))))"
   ]
  },
  {
   "cell_type": "code",
   "execution_count": null,
   "metadata": {
    "collapsed": true,
    "slideshow": {
     "slide_type": "subslide"
    }
   },
   "outputs": [],
   "source": [
    "import numpy as np\n",
    "\n",
    "def line2array(line):\n",
    "    return np.array(line.rstrip().split(), dtype=float)\n",
    "\n",
    "def readtsvv(filename):\n",
    "    print('starting readtsv')\n",
    "    with open(filename) as fin:\n",
    "        for i, line in enumerate(fin):\n",
    "            print('reading line {}'.format(i))\n",
    "            yield line2array(line)\n",
    "    print('finished readtsv')\n",
    "\n",
    "def logv(arrays_iter):\n",
    "    print('starting log')\n",
    "    for i, arr in enumerate(arrays_iter):\n",
    "        print('taking log of line {}'.format(i))\n",
    "        yield np.log(arr + 1)\n",
    "    print('finished log')\n",
    "\n",
    "def meanv(arrays_iter):\n",
    "    print('starting running mean')\n",
    "    for i, arr in enumerate(arrays_iter):\n",
    "        if i == 0:\n",
    "            mean = arr\n",
    "        mean += (arr - mean) / (i + 1)\n",
    "        print('adding line {} to the running mean'.format(i))\n",
    "    print('returning mean')\n",
    "    return mean"
   ]
  },
  {
   "cell_type": "code",
   "execution_count": null,
   "metadata": {
    "collapsed": false,
    "slideshow": {
     "slide_type": "subslide"
    }
   },
   "outputs": [],
   "source": [
    "print(meanv(logv(readtsvv(fin))))"
   ]
  },
  {
   "cell_type": "markdown",
   "metadata": {
    "slideshow": {
     "slide_type": "slide"
    }
   },
   "source": [
    "# Toolz: making streaming beautiful"
   ]
  },
  {
   "cell_type": "code",
   "execution_count": null,
   "metadata": {
    "collapsed": false,
    "slideshow": {
     "slide_type": "fragment"
    }
   },
   "outputs": [],
   "source": [
    "import toolz as tz\n",
    "\n",
    "tz.pipe(fin, readtsv, log, mean)"
   ]
  },
  {
   "cell_type": "code",
   "execution_count": null,
   "metadata": {
    "collapsed": false,
    "slideshow": {
     "slide_type": "subslide"
    }
   },
   "outputs": [],
   "source": [
    "from toolz.curried import map as cmap\n",
    "\n",
    "def log1(arr):\n",
    "    return np.log(arr + 1)\n",
    "\n",
    "tz.pipe(fin, open,\n",
    "        cmap(line2array),\n",
    "        cmap(log1),\n",
    "        mean)"
   ]
  },
  {
   "cell_type": "markdown",
   "metadata": {
    "slideshow": {
     "slide_type": "slide"
    }
   },
   "source": [
    "# Streaming PCA"
   ]
  },
  {
   "cell_type": "code",
   "execution_count": null,
   "metadata": {
    "collapsed": true,
    "slideshow": {
     "slide_type": "subslide"
    }
   },
   "outputs": [],
   "source": [
    "from toolz.curried import partition\n",
    "from sklearn import decomposition\n",
    "\n",
    "def streaming_pca(samples, n_components=2, batch_size=50):\n",
    "    ipca = decomposition.IncrementalPCA(n_components=n_components,\n",
    "                                        batch_size=batch_size)\n",
    "    # we use `tz.last` to force evaluation of the full iterator\n",
    "    tz.last(tz.pipe(samples,  # iterator of 1D arrays\n",
    "                    partition(batch_size),  # iterator of tuples\n",
    "                    cmap(np.array),  # iterator of 2D arrays\n",
    "                    cmap(ipca.partial_fit)))  # partial_fit on each\n",
    "    return ipca"
   ]
  },
  {
   "cell_type": "code",
   "execution_count": null,
   "metadata": {
    "collapsed": true,
    "slideshow": {
     "slide_type": "subslide"
    }
   },
   "outputs": [],
   "source": [
    "pca = tz.pipe('data/iris_data.txt', open,\n",
    "              cmap(line2array),\n",
    "              streaming_pca)"
   ]
  },
  {
   "cell_type": "code",
   "execution_count": null,
   "metadata": {
    "collapsed": true,
    "slideshow": {
     "slide_type": "fragment"
    }
   },
   "outputs": [],
   "source": [
    "X = tz.pipe('data/iris_data.txt', open,\n",
    "            cmap(line2array),\n",
    "            cmap(pca.transform),\n",
    "            list, np.squeeze)"
   ]
  },
  {
   "cell_type": "code",
   "execution_count": null,
   "metadata": {
    "collapsed": true,
    "slideshow": {
     "slide_type": "subslide"
    }
   },
   "outputs": [],
   "source": [
    "from matplotlib import pyplot as plt\n",
    "\n",
    "def plot_embedding(X, y):\n",
    "    x_min, x_max = np.min(X, 0), np.max(X, 0)\n",
    "    X = (X - x_min) / (x_max - x_min)\n",
    "\n",
    "    plt.figure()\n",
    "    ax = plt.subplot(111)\n",
    "    for i in range(X.shape[0]):\n",
    "        plt.scatter(X[i, 0], X[i, 1],\n",
    "                    color=plt.cm.Set1(y[i] / 10.))\n",
    "    plt.xticks([]), plt.yticks([])"
   ]
  },
  {
   "cell_type": "code",
   "execution_count": null,
   "metadata": {
    "collapsed": false,
    "slideshow": {
     "slide_type": "subslide"
    }
   },
   "outputs": [],
   "source": [
    "y = np.loadtxt('data/iris_target.txt')\n",
    "plot_embedding(X, y)"
   ]
  },
  {
   "cell_type": "markdown",
   "metadata": {
    "slideshow": {
     "slide_type": "slide"
    }
   },
   "source": [
    "# k-mer counting\n",
    "\n",
    "15-mer  \n",
    "\"to be or nob to”  \n",
    "much less frequent than  \n",
    "“to be or not to\""
   ]
  },
  {
   "cell_type": "code",
   "execution_count": null,
   "metadata": {
    "collapsed": true,
    "slideshow": {
     "slide_type": "subslide"
    }
   },
   "outputs": [],
   "source": [
    "from toolz.curried import sliding_window, filter as cfilter\n",
    "\n",
    "def is_sequence(line):\n",
    "    return not line.startswith('>')\n",
    "\n",
    "\n",
    "from glob import glob\n",
    "\n",
    "k = 7\n",
    "counts = tz.pipe('*.fasta', glob, cmap(open),\n",
    "                 tz.concat,  # lines\n",
    "                 cfilter(is_sequence),  # discard names\n",
    "                 cmap(str.rstrip),\n",
    "                 cmap(sliding_window(k)),  # apply sliding to each\n",
    "                 tz.concat,  # k-mers as char tuples\n",
    "                 cmap(''.join),  # k-mers\n",
    "                 tz.frequencies)\n",
    "\n",
    "counts = list(counts.values())"
   ]
  },
  {
   "cell_type": "code",
   "execution_count": null,
   "metadata": {
    "collapsed": true,
    "slideshow": {
     "slide_type": "subslide"
    }
   },
   "outputs": [],
   "source": [
    "def integer_histogram(counts, normed=True, *args, **kwargs):\n",
    "    hist = np.bincount(counts)\n",
    "    if normed:\n",
    "        hist = hist / np.sum(hist)\n",
    "    return plt.plot(np.arange(len(hist)), hist, *args, **kwargs)"
   ]
  },
  {
   "cell_type": "code",
   "execution_count": null,
   "metadata": {
    "collapsed": false,
    "slideshow": {
     "slide_type": "subslide"
    }
   },
   "outputs": [],
   "source": [
    "integer_histogram(counts, lw=2)\n",
    "plt.xlim(-1, 250)"
   ]
  },
  {
   "cell_type": "markdown",
   "metadata": {
    "slideshow": {
     "slide_type": "slide"
    }
   },
   "source": [
    "# Genome markov model"
   ]
  },
  {
   "cell_type": "code",
   "execution_count": null,
   "metadata": {
    "collapsed": true,
    "slideshow": {
     "slide_type": "fragment"
    }
   },
   "outputs": [],
   "source": [
    "import numpy as np\n",
    "import toolz as tz\n",
    "import cytoolz as ctz\n",
    "from glob import glob\n",
    "import itertools as it"
   ]
  },
  {
   "cell_type": "code",
   "execution_count": null,
   "metadata": {
    "collapsed": true,
    "slideshow": {
     "slide_type": "subslide"
    }
   },
   "outputs": [],
   "source": [
    "LDICT = dict(zip('ACGTacgt', range(8)))\n",
    "PDICT = {(a, b): (LDICT[a], LDICT[b])\n",
    "         for a, b in it.product(LDICT, LDICT)}\n",
    "\n",
    "def is_nucleotide(letter):\n",
    "    return letter in LDICT  # ignore 'N'\n",
    "\n",
    "\n",
    "@tz.curry\n",
    "def increment_model(model, index):\n",
    "    model[index] += 1"
   ]
  },
  {
   "cell_type": "code",
   "execution_count": null,
   "metadata": {
    "collapsed": true,
    "slideshow": {
     "slide_type": "subslide"
    }
   },
   "outputs": [],
   "source": [
    "def genome(file_pattern):\n",
    "    \"\"\"Stream a genome, letter by letter, from a list of FASTA filenames.\"\"\"\n",
    "    return tz.pipe(file_pattern, glob, sorted,  # Filenames\n",
    "                   cmap(open),  # lines\n",
    "                   tz.concat,  # concatenate lines from all files\n",
    "                   cfilter(is_sequence),  # drop header from each sequence\n",
    "                   tz.concat,  # concatenate chars from all lines\n",
    "                   cfilter(is_nucleotide))  # discard newlines and 'N'"
   ]
  },
  {
   "cell_type": "code",
   "execution_count": null,
   "metadata": {
    "collapsed": true,
    "slideshow": {
     "slide_type": "subslide"
    }
   },
   "outputs": [],
   "source": [
    "def markov(seq):\n",
    "    \"\"\"Get a 1st-order Markov model from a sequence of nucleotides.\"\"\"\n",
    "    model = np.zeros((8, 8))\n",
    "    tz.last(tz.pipe(ctz.sliding_window(2, seq),  # each successive tuple\n",
    "                    cmap(PDICT.__getitem__),  # location in matrix of tuple\n",
    "                    cmap(increment_model(model))))  # increment matrix\n",
    "    # convert counts to transition probability matrix\n",
    "    model /= np.sum(model, axis=1)[:, np.newaxis]\n",
    "    return model"
   ]
  },
  {
   "cell_type": "code",
   "execution_count": 26,
   "metadata": {
    "collapsed": false,
    "slideshow": {
     "slide_type": "subslide"
    }
   },
   "outputs": [
    {
     "name": "stdout",
     "output_type": "stream",
     "text": [
      "In [26] used 25.4453 MiB RAM in 3.13s, peaked 0.00 MiB above current, total RAM usage 75.88 MiB\n"
     ]
    }
   ],
   "source": [
    "imu.start_watching_memory()"
   ]
  },
  {
   "cell_type": "code",
   "execution_count": 27,
   "metadata": {
    "collapsed": false,
    "slideshow": {
     "slide_type": "-"
    }
   },
   "outputs": [
    {
     "name": "stdout",
     "output_type": "stream",
     "text": [
      "processed 147MB in 5.2min\n",
      "throughput: 0.47MBps\n",
      "In [27] used 0.0234 MiB RAM in 312.32s, peaked 0.00 MiB above current, total RAM usage 75.90 MiB\n"
     ]
    }
   ],
   "source": [
    "dm = 'data/dm6.fa'\n",
    "import timeit\n",
    "\n",
    "t0 = timeit.default_timer()\n",
    "m = tz.pipe(dm, genome, markov)\n",
    "t1 = timeit.default_timer()\n",
    "\n",
    "sec = t1 - t0\n",
    "print(\"processed 147MB in %.1fmin\" % (sec / 60))\n",
    "print(\"throughput: %.2fMBps\" % (147 / sec))"
   ]
  },
  {
   "cell_type": "code",
   "execution_count": 28,
   "metadata": {
    "collapsed": true,
    "slideshow": {
     "slide_type": "-"
    }
   },
   "outputs": [],
   "source": [
    "imu.stop_watching_memory()"
   ]
  },
  {
   "cell_type": "code",
   "execution_count": 29,
   "metadata": {
    "collapsed": false,
    "slideshow": {
     "slide_type": "subslide"
    }
   },
   "outputs": [
    {
     "name": "stdout",
     "output_type": "stream",
     "text": [
      "     A      C      G      T      a      c      g      t \n",
      "\n",
      "[[ 0.351  0.181  0.189  0.279  0.     0.     0.     0.   ]\n",
      " [ 0.322  0.223  0.199  0.255  0.     0.     0.     0.   ]\n",
      " [ 0.261  0.272  0.223  0.243  0.     0.     0.     0.   ]\n",
      " [ 0.216  0.194  0.239  0.351  0.     0.     0.     0.   ]\n",
      " [ 0.001  0.001  0.001  0.001  0.349  0.184  0.18   0.283]\n",
      " [ 0.001  0.001  0.001  0.001  0.327  0.211  0.185  0.273]\n",
      " [ 0.001  0.001  0.001  0.001  0.28   0.229  0.209  0.277]\n",
      " [ 0.001  0.001  0.001  0.001  0.247  0.185  0.216  0.348]]\n"
     ]
    }
   ],
   "source": [
    "print('    ', '      '.join('ACGTacgt'), '\\n')\n",
    "print(m)"
   ]
  },
  {
   "cell_type": "code",
   "execution_count": 30,
   "metadata": {
    "collapsed": false,
    "slideshow": {
     "slide_type": "subslide"
    }
   },
   "outputs": [
    {
     "data": {
      "image/png": "[encoded data removed]",
      "text/plain": [
       "<matplotlib.figure.Figure at 0x108b477b8>"
      ]
     },
     "metadata": {},
     "output_type": "display_data"
    }
   ],
   "source": [
    "plt.imshow(m, cmap='gist_heat', interpolation='nearest');\n",
    "plt.colorbar();\n",
    "ax = plt.gca()\n",
    "ax.set_xticklabels(' ACGTacgt');\n",
    "ax.set_yticklabels(' ACGTacgt');"
   ]
  },
  {
   "cell_type": "markdown",
   "metadata": {
    "slideshow": {
     "slide_type": "slide"
    }
   },
   "source": [
    "# Cheat sheet\n",
    "\n",
    "- `[x[5] for x in xs]` -> `(x[5] for x in xs)`\n",
    "- iterators need to be consumed:\n",
    "  * `map(func, very_long_iter)` does no work\n",
    "  * `sum(map(func, very_long_iter))` applies `func` and `sum`\n",
    "  * `very_long_iter` is then *gone* and you can't use it again.\n",
    "  * `sum(map(func, very_long_iter))` is now 0\n",
    "- `toolz.pipe` and `toolz.curried`\n"
   ]
  },
  {
   "cell_type": "markdown",
   "metadata": {
    "slideshow": {
     "slide_type": "slide"
    }
   },
   "source": [
    "# Other examples\n",
    "\n",
    "**Stacking and montaging images from microscope**"
   ]
  },
  {
   "cell_type": "code",
   "execution_count": null,
   "metadata": {
    "collapsed": true,
    "slideshow": {
     "slide_type": "-"
    }
   },
   "outputs": [],
   "source": [
    "tz.pipe(ims, partition(nchannels),\n",
    "             cmap(stack_channels(order=channel_order)),\n",
    "             partition(ntiles),\n",
    "             cmap(montage(order=tile_order))"
   ]
  },
  {
   "cell_type": "markdown",
   "metadata": {
    "slideshow": {
     "slide_type": "subslide"
    }
   },
   "source": [
    "**Reservoir sampling pixels from many images**"
   ]
  },
  {
   "cell_type": "code",
   "execution_count": null,
   "metadata": {
    "collapsed": true,
    "slideshow": {
     "slide_type": "-"
    }
   },
   "outputs": [],
   "source": [
    "ims_iter = iter(ims_iter)  # ensure iterator and not e.g. list\n",
    "sampled = next(ims_iter)\n",
    "for k, im in enumerate(ims_iter, start=2):\n",
    "    to_replace = np.random.rand(*im.shape) < (1 / k)\n",
    "    sampled[to_replace] = im[to_replace]\n",
    "return sampled"
   ]
  },
  {
   "cell_type": "markdown",
   "metadata": {
    "slideshow": {
     "slide_type": "subslide"
    }
   },
   "source": [
    "**Correcting image illumination**"
   ]
  },
  {
   "cell_type": "code",
   "execution_count": null,
   "metadata": {
    "collapsed": true,
    "slideshow": {
     "slide_type": "-"
    }
   },
   "outputs": [],
   "source": [
    "p0 = 100 * stretch_quantile\n",
    "p1 = 100 - p0\n",
    "im_fns = list(im_fns)\n",
    "\n",
    "# in first pass, make a composite image to get global intensity range\n",
    "ims_pass1 = map(io.imread, im_fns)\n",
    "sampled = _reservoir_sampled_image(ims_pass1, random_state)\n",
    "corrected = sampled / illum  # don't do in-place, dtype may clash\n",
    "corr_range = tuple(np.percentile(corrected, [p0, p1]))\n",
    "\n",
    "# In second pass, correct every image and adjust exposure\n",
    "ims_pass2 = map(io.imread, im_fns)\n",
    "for im in ims_pass2:\n",
    "    corrected = im / illum\n",
    "    rescaled = exposure.rescale_intensity(corrected, in_range=corr_range,\n",
    "                                              out_range=np.uint8)\n",
    "    out = np.round(rescaled, out=np.empty(rescaled.shape, np.uint8))\n",
    "    yield out"
   ]
  },
  {
   "cell_type": "markdown",
   "metadata": {
    "slideshow": {
     "slide_type": "slide"
    }
   },
   "source": [
    "<center><img src='giovanni.jpg' width=\"400\"></center>\n",
    "\n",
    "(CC) Manu Cornet http://www.bonkersworld.net/all-engineers-are-the-same/"
   ]
  },
  {
   "cell_type": "code",
   "execution_count": 31,
   "metadata": {
    "collapsed": false,
    "slideshow": {
     "slide_type": "slide"
    }
   },
   "outputs": [
    {
     "name": "stdout",
     "output_type": "stream",
     "text": [
      "10 loops, best of 3: 38.4 ms per loop\n",
      "26.03523155778172 MBps\n"
     ]
    }
   ],
   "source": [
    "# throughput of single chars\n",
    "\n",
    "def chars(filename):\n",
    "    return tz.concat(open(filename))\n",
    "t = %timeit -o tz.last(tz.take(1004656, chars(dm)))\n",
    "throughput = 1 / t.best\n",
    "print(throughput, \"MBps\")"
   ]
  },
  {
   "cell_type": "code",
   "execution_count": 32,
   "metadata": {
    "collapsed": false,
    "slideshow": {
     "slide_type": "subslide"
    }
   },
   "outputs": [
    {
     "name": "stdout",
     "output_type": "stream",
     "text": [
      "1 loops, best of 3: 327 ms per loop\n",
      "3.0577990840068923 MBps\n"
     ]
    }
   ],
   "source": [
    "t = %timeit -o tz.last(tz.take(int(1e6), genome(dm)))\n",
    "throughput = 1 / t.best\n",
    "print(throughput, \"MBps\")"
   ]
  },
  {
   "cell_type": "code",
   "execution_count": 33,
   "metadata": {
    "collapsed": false,
    "slideshow": {
     "slide_type": "subslide"
    }
   },
   "outputs": [
    {
     "name": "stdout",
     "output_type": "stream",
     "text": [
      "1 loops, best of 3: 2.32 s per loop\n",
      "0.4302326505645628 MBps\n"
     ]
    }
   ],
   "source": [
    "t = %timeit -o markov(tz.take(int(1e6), genome(dm)))\n",
    "throughput = 1 / t.best\n",
    "print(throughput, \"MBps\")"
   ]
  }
 ],
 "metadata": {
  "kernelspec": {
   "display_name": "Python 3",
   "language": "python",
   "name": "python3"
  },
  "language_info": {
   "codemirror_mode": {
    "name": "ipython",
    "version": 3
   },
   "file_extension": ".py",
   "mimetype": "text/x-python",
   "name": "python",
   "nbconvert_exporter": "python",
   "pygments_lexer": "ipython3",
   "version": "3.4.3"
  }
 },
 "nbformat": 4,
 "nbformat_minor": 0
}
